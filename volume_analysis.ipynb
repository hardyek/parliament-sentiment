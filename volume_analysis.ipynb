{
 "cells": [
  {
   "cell_type": "code",
   "execution_count": 2,
   "metadata": {},
   "outputs": [
    {
     "name": "stdout",
     "output_type": "stream",
     "text": [
      "Total transactions: 599\n",
      "\n",
      "Volume over time:\n",
      "type             No      Yes    Total\n",
      "date                                 \n",
      "2024-12-28  22223.0  14555.0  36778.0\n",
      "2025-01-27  66440.0  16230.0  82670.0\n",
      "2025-01-28   1723.0   4535.0   6258.0\n",
      "2025-01-29   6848.0     66.0   6914.0\n",
      "2025-01-30  20979.0    147.0  21126.0\n",
      "2025-01-31   2237.0      7.0   2244.0\n",
      "2025-02-01    435.0     24.0    459.0\n",
      "2025-02-02     42.0      8.0     50.0\n",
      "2025-02-03   3689.0     85.0   3774.0\n",
      "2025-02-04   8410.0    948.0   9358.0\n",
      "2025-02-05  12633.0    570.0  13203.0\n",
      "2025-02-06  10029.0     41.0  10070.0\n",
      "2025-02-07   5526.0   1409.0   6935.0\n",
      "2025-02-08   3612.0     71.0   3683.0\n",
      "2025-02-09   1850.0    120.0   1970.0\n",
      "2025-02-10  11267.0    212.0  11479.0\n",
      "2025-02-11    311.0      0.0    311.0\n",
      "2025-02-12   6429.0     10.0   6439.0\n",
      "2025-02-13      0.0   1050.0   1050.0\n",
      "2025-02-14    682.0      2.0    684.0\n",
      "2025-02-16    278.0     47.0    325.0\n",
      "2025-02-17    265.0      0.0    265.0\n",
      "2025-02-19   1880.0    147.0   2027.0\n",
      "2025-02-21     52.0     20.0     72.0\n",
      "2025-02-22    805.0      0.0    805.0\n",
      "2025-02-23    495.0      0.0    495.0\n",
      "2025-02-24   2856.0      0.0   2856.0\n",
      "2025-02-25      0.0    322.0    322.0\n",
      "\n",
      "Top 10 traders by volume:\n",
      "user\n",
      "simpleman             64123.0\n",
      "ampleflatfields       16071.0\n",
      "Betwick               15451.0\n",
      "Pork-cooked-in-...    14575.0\n",
      "Postric               12435.0\n",
      "lava-lava             10511.0\n",
      "LlamaLoco0000          7516.0\n",
      "Jimmychoo              5900.0\n",
      "Phoenixxx              5539.0\n",
      "Bombarda               4192.0\n",
      "Name: amount, dtype: float64\n"
     ]
    }
   ],
   "source": [
    "import pandas as pd\n",
    "from datetime import datetime, timedelta\n",
    "import re\n",
    "import matplotlib.pyplot as plt\n",
    "\n",
    "# Your trading data is stored in the string below (replace with your file path if needed)\n",
    "trading_data = '''R2010 bought 1,076 Yes at 11.0¢ ($118)\n",
    "\n",
    "1d ago\n",
    "\n",
    "R2010 sold 2,035 Yes at 10.0¢ ($204)\n",
    "\n",
    "1d ago\n",
    "\n",
    "simpleman sold 2,817 No at 88.6¢ ($2,496)\n",
    "\n",
    "2d ago\n",
    "'''  # This is just a small sample - you'll use your full data\n",
    "\n",
    "# Parse the trading data\n",
    "def parse_data(text_content):\n",
    "    # Clean the input if needed\n",
    "    if text_content.startswith(\"'\") and text_content.endswith(\"'\"):\n",
    "        text_content = text_content[1:-1]\n",
    "    \n",
    "    lines = text_content.strip().split('\\n')\n",
    "    parsed_data = []\n",
    "    \n",
    "    i = 0\n",
    "    transaction = {}\n",
    "    \n",
    "    while i < len(lines):\n",
    "        line = lines[i].strip()\n",
    "        \n",
    "        if not line:  # Skip empty lines\n",
    "            i += 1\n",
    "            continue\n",
    "        \n",
    "        # Check if this is a transaction line\n",
    "        if 'bought' in line or 'sold' in line:\n",
    "            action = 'bought' if 'bought' in line else 'sold'\n",
    "            action_index = line.index(action)\n",
    "            \n",
    "            # Parse user name\n",
    "            user = line[:action_index].strip()\n",
    "            \n",
    "            # Parse quantity and type\n",
    "            quantity_match = re.search(r'(\\d+,?\\d*)\\s+(Yes|No)', line)\n",
    "            if not quantity_match:\n",
    "                i += 1\n",
    "                continue\n",
    "                \n",
    "            quantity = int(quantity_match.group(1).replace(',', ''))\n",
    "            type_ = quantity_match.group(2)\n",
    "            \n",
    "            # Parse price\n",
    "            price_match = re.search(r'at\\s+(\\d+\\.?\\d*)¢', line)\n",
    "            if not price_match:\n",
    "                i += 1\n",
    "                continue\n",
    "                \n",
    "            price = float(price_match.group(1)) / 100  # Convert cents to dollars\n",
    "            \n",
    "            # Parse amount\n",
    "            amount_match = re.search(r'\\(\\$(\\d+,?\\d*)\\)', line)\n",
    "            if not amount_match:\n",
    "                i += 1\n",
    "                continue\n",
    "                \n",
    "            amount = float(amount_match.group(1).replace(',', ''))\n",
    "            \n",
    "            transaction = {\n",
    "                'user': user,\n",
    "                'action': action,\n",
    "                'quantity': quantity,\n",
    "                'type': type_,\n",
    "                'price': price,\n",
    "                'amount': amount\n",
    "            }\n",
    "        \n",
    "        # Check for date line\n",
    "        elif 'd ago' in line or 'mo ago' in line:\n",
    "            if transaction:  # Only process if we have a transaction\n",
    "                # Parse date\n",
    "                date = datetime.now()\n",
    "                if 'd ago' in line:\n",
    "                    days_ago = int(line.split('d')[0].strip())\n",
    "                    date = date - timedelta(days=days_ago)\n",
    "                elif 'mo ago' in line:\n",
    "                    months_ago = int(line.split('mo')[0].strip())\n",
    "                    date = date - timedelta(days=months_ago * 30)\n",
    "                \n",
    "                transaction['date'] = date.strftime('%Y-%m-%d')\n",
    "                parsed_data.append(transaction)\n",
    "                transaction = {}  # Reset for next transaction\n",
    "        \n",
    "        i += 1\n",
    "    \n",
    "    return parsed_data\n",
    "\n",
    "# Parse the data from your file\n",
    "with open(\"$100_bets.txt\", \"r\") as file:\n",
    "    text_content = file.read()\n",
    "\n",
    "data = parse_data(text_content)\n",
    "\n",
    "# Check if we have data\n",
    "if not data:\n",
    "    print(\"No valid trading data found\")\n",
    "else:\n",
    "    # Convert to DataFrame\n",
    "    df = pd.DataFrame(data)\n",
    "    \n",
    "    # Convert date column to datetime\n",
    "    df['date'] = pd.to_datetime(df['date'])\n",
    "    \n",
    "    # Sort by date\n",
    "    df = df.sort_values('date')\n",
    "    \n",
    "    # Calculate volume by date and type\n",
    "    volume_by_type = df.groupby(['date', 'type'])['amount'].sum().unstack(fill_value=0)\n",
    "    \n",
    "    # Ensure both Yes and No columns exist\n",
    "    if 'Yes' not in volume_by_type.columns:\n",
    "        volume_by_type['Yes'] = 0\n",
    "    if 'No' not in volume_by_type.columns:\n",
    "        volume_by_type['No'] = 0\n",
    "    \n",
    "    # Calculate total volume\n",
    "    volume_by_type['Total'] = volume_by_type['Yes'] + volume_by_type['No']\n",
    "    \n",
    "    # Display the results\n",
    "    print(f\"Total transactions: {len(data)}\")\n",
    "    print(\"\\nVolume over time:\")\n",
    "    print(volume_by_type)\n",
    "    \n",
    "    # Save to CSV\n",
    "    volume_by_type.to_csv(\"volume_over_time.csv\")\n",
    "    \n",
    "    # Calculate top traders\n",
    "    top_traders = df.groupby('user')['amount'].sum().sort_values(ascending=False).head(10)\n",
    "    print(\"\\nTop 10 traders by volume:\")\n",
    "    print(top_traders)\n",
    "    \n",
    "    # Save top traders to CSV\n",
    "    top_traders.to_csv(\"top_traders.csv\")"
   ]
  },
  {
   "cell_type": "code",
   "execution_count": 3,
   "metadata": {},
   "outputs": [],
   "source": [
    "df['date'] = pd.to_datetime(df['date'])  # Ensure the 'date' column is in datetime format\n",
    "\n",
    "# Filter for December 2024 and January 2025\n",
    "dec_jan = df[(df['date'] >= '2024-12-01') & (df['date'] < '2025-02-01')]\n",
    "\n",
    "# Filter for February 2025\n",
    "feb = df[(df['date'] >= '2025-02-01') & (df['date'] < '2025-03-01')]"
   ]
  },
  {
   "cell_type": "code",
   "execution_count": 4,
   "metadata": {},
   "outputs": [],
   "source": [
    "dec_jan_volume_no = dec_jan[(dec_jan['action'] == 'bought') & (dec_jan['type'] == \"No\")]['amount'].count() + dec_jan[(dec_jan['action'] == 'sold') & (dec_jan['type'] == \"Yes\")]['amount'].count()\n",
    "dec_jan_volume_yes = dec_jan[(dec_jan['action'] == 'bought') & (dec_jan['type'] == \"Yes\")]['amount'].count() + dec_jan[(dec_jan['action'] == 'sold') & (dec_jan['type'] == \"No\")]['amount'].count()\n",
    "feb_volume_no = feb[(feb['action'] == 'bought') & (feb['type'] == \"No\")]['amount'].count() + feb[(feb['action'] == 'sold') & (feb['type'] == \"Yes\")]['amount'].count()\n",
    "feb_volume_yes = feb[(feb['action'] == 'bought') & (feb['type'] == \"Yes\")]['amount'].count() + feb[(feb['action'] == 'sold') & (feb['type'] == \"No\")]['amount'].count()"
   ]
  },
  {
   "cell_type": "code",
   "execution_count": 5,
   "metadata": {},
   "outputs": [
    {
     "data": {
      "image/png": "[encoded data removed]",
      "text/plain": [
       "<Figure size 600x400 with 1 Axes>"
      ]
     },
     "metadata": {},
     "output_type": "display_data"
    }
   ],
   "source": [
    "# Data for the bar chart\n",
    "plt.figure(figsize=(6, 4))\n",
    "\n",
    "periods = ['Jan Yes', 'Jan No', 'Feb Yes', 'Feb No']\n",
    "volumes = [dec_jan_volume_no, dec_jan_volume_yes, feb_volume_no, feb_volume_yes]\n",
    "\n",
    "# Create the bar chart\n",
    "plt.bar(periods, volumes, color=['green', 'red'])\n",
    "\n",
    "# Add labels and title\n",
    "plt.xlabel('Time Period')\n",
    "plt.ylabel('Volume')\n",
    "plt.title('Volume by Bet Type: January vs February')\n",
    "\n",
    "# Display the chart\n",
    "plt.show()"
   ]
  },
  {
   "cell_type": "code",
   "execution_count": 6,
   "metadata": {},
   "outputs": [],
   "source": [
    "dec_jan_median_no = dec_jan[(dec_jan['action'] == 'bought') & (dec_jan['type'] == \"No\")]['amount'].median() + dec_jan[(dec_jan['action'] == 'sold') & (dec_jan['type'] == \"Yes\")]['amount'].median()\n",
    "dec_jan_median_yes = dec_jan[(dec_jan['action'] == 'bought') & (dec_jan['type'] == \"Yes\")]['amount'].median() + dec_jan[(dec_jan['action'] == 'sold') & (dec_jan['type'] == \"No\")]['amount'].median()\n",
    "feb_median_no = feb[(feb['action'] == 'bought') & (feb['type'] == \"No\")]['amount'].median() + feb[(feb['action'] == 'sold') & (feb['type'] == \"Yes\")]['amount'].median()\n",
    "feb_median_yes = feb[(feb['action'] == 'bought') & (feb['type'] == \"Yes\")]['amount'].median() + feb[(feb['action'] == 'sold') & (feb['type'] == \"No\")]['amount'].median()"
   ]
  },
  {
   "cell_type": "code",
   "execution_count": 7,
   "metadata": {},
   "outputs": [
    {
     "data": {
      "image/png": "[encoded data removed]",
      "text/plain": [
       "<Figure size 600x400 with 1 Axes>"
      ]
     },
     "metadata": {},
     "output_type": "display_data"
    }
   ],
   "source": [
    "# Data for the bar chart\n",
    "plt.figure(figsize=(6, 4))\n",
    "\n",
    "periods = ['Jan Yes', 'Jan No', 'Feb Yes', 'Feb No']\n",
    "medians = [dec_jan_median_no, dec_jan_median_yes, feb_median_no, feb_median_yes]\n",
    "\n",
    "# Create the bar chart\n",
    "plt.bar(periods, medians, color=['green', 'red'])\n",
    "\n",
    "# Add labels and title\n",
    "plt.xlabel('Time Period')\n",
    "plt.ylabel('Median Bet Size')\n",
    "plt.title('Median Bet Size: January vs February')\n",
    "\n",
    "# Display the chart\n",
    "plt.show()"
   ]
  },
  {
   "cell_type": "code",
   "execution_count": 8,
   "metadata": {},
   "outputs": [
    {
     "data": {
      "text/plain": [
       "np.float64(599.9277621680413)"
      ]
     },
     "execution_count": 8,
     "metadata": {},
     "output_type": "execute_result"
    }
   ],
   "source": [
    "dec_jan[(dec_jan['action'] == 'bought') & (dec_jan['type'] == \"No\")]['amount'].mean() + dec_jan[(dec_jan['action'] == 'sold') & (dec_jan['type'] == \"Yes\")]['amount'].mean()"
   ]
  },
  {
   "cell_type": "code",
   "execution_count": null,
   "metadata": {},
   "outputs": [],
   "source": []
  }
 ],
 "metadata": {
  "kernelspec": {
   "display_name": "Python 3",
   "language": "python",
   "name": "python3"
  },
  "language_info": {
   "codemirror_mode": {
    "name": "ipython",
    "version": 3
   },
   "file_extension": ".py",
   "mimetype": "text/x-python",
   "name": "python",
   "nbconvert_exporter": "python",
   "pygments_lexer": "ipython3",
   "version": "3.13.0"
  }
 },
 "nbformat": 4,
 "nbformat_minor": 2
}
